{
 "cells": [
  {
   "cell_type": "markdown",
   "id": "5509af21",
   "metadata": {},
   "source": [
    "# Project 21: Impact evaluation code"
   ]
  },
  {
   "cell_type": "markdown",
   "id": "c0cf798e",
   "metadata": {},
   "source": [
    "### 0. Import all the libraries needed."
   ]
  },
  {
   "cell_type": "code",
   "execution_count": 1,
   "id": "0c89b642",
   "metadata": {},
   "outputs": [],
   "source": [
    "import numpy # for math\n",
    "import pandas # for data compilation in a comprehensive format\n",
    "from sklearn.model_selection import train_test_split # for splitting data into training and test sets\n",
    "from sklearn import svm # for predictive classification of the results into success of sessions or failure\n",
    "from sklearn import linear_model # for predictive classification using regression\n",
    "from sklearn.model_selection import cross_validate # for cross-validation of data to avoid overfitting the model\n",
    "from matplotlib import pyplot # for data visualization x1\n",
    "import seaborn # for data visualization x2\n",
    "from scipy import stats # for normal approximation of the true shape of data distribution"
   ]
  },
  {
   "cell_type": "markdown",
   "id": "7564bff1",
   "metadata": {},
   "source": [
    "## I. Data generation."
   ]
  },
  {
   "cell_type": "markdown",
   "id": "1e76aa43",
   "metadata": {},
   "source": [
    "### 1. Generate fake data for testing the model in the absence of real data."
   ]
  },
  {
   "cell_type": "code",
   "execution_count": 2,
   "id": "fa6e8ae8",
   "metadata": {},
   "outputs": [],
   "source": [
    "def generate_data(sample_size):\n",
    "\n",
    "    # 1. Generate random demographics:\n",
    "    \n",
    "    # a) Randomly generate 0 if male, 1 if female, with equal probabilities;\n",
    "    gender = numpy.random.choice([0, 1], size = sample_size)\n",
    "    \n",
    "    # b) Generate 0 if student with 70% probability and 1 if worker with 30% probability;\n",
    "    occupation = numpy.random.choice([0, 1], p = [0.7, 0.3], size = sample_size)\n",
    "    \n",
    "    # c) Get one sample from the normal distribution:\n",
    "    #    i. Mean at 20 years and with standard deviation of 1 year if student, so 95% of samples will be 18-22 years.\n",
    "    #    ii. Mean at 27 years and with standard deviation of 3 years if worker, so 95% of samples - 21-33 years.\n",
    "    age = [int(numpy.random.normal(20, 1, 1)) if i == 0 else int(numpy.random.normal(27, 3, 1)) for i in occupation]\n",
    "    \n",
    "    # 2. Compile demographics into one list of dependent variables for further model fitting.\n",
    "    x = [[gender[i], occupation[i], age[i]] for i in range(sample_size)]\n",
    "    \n",
    "    # 3. Generate pre-sessions level of confidence (ranging 1-5) in 1 skill as the variable dependent on the demographics,\n",
    "    # with addition of randomness.\n",
    "    # Here I am assuming gender does not influence level of confidence, occupation and age influence it barely.\n",
    "    # In the context of generating fake data, high proportion of randomness can also be seen as modelling\n",
    "    # some other factors that influence the result and that I did not account for.\n",
    "    pre_y = [int(occupation[i]*0.1 + age[i]/12 + 2*numpy.random.rand()) for i in range(sample_size)] # some random formula\n",
    "    \n",
    "    # 4. Generate post-sessions level of confidence (ranging 1-5) in 1 skill as the variable dependent on the pre-sessions level,\n",
    "    # with addition of randomness.\n",
    "    # In this case, the whole increase in the level of confidence due to participation in sessions\n",
    "    # is due to a randomness as a mix of unaccounted for components.\n",
    "    # The randomness component is one sample from a normal distribution with mean 1.5 and standard deviation 0.5,\n",
    "    # meaning randomness contributes +0.5-2.5 change in 95% of cases, with average change being +1.5.\n",
    "    post_y = [int(pre_y[i] + numpy.random.normal(1.5, 0.5, 1)) for i in range(sample_size)]\n",
    "    \n",
    "    # 5. Calculate the effect of the sessions as the change in the level of confidence.\n",
    "    effect_y = [[post_y[i] - pre_y[i]] for i in range(sample_size)]\n",
    "    \n",
    "    # 6. Return data in the format that is appropriate for the modelling.\n",
    "    return numpy.array(gender), numpy.array(occupation), numpy.array(age), numpy.array(x), numpy.array(pre_y), numpy.array(post_y), numpy.array(effect_y).flatten()\n",
    "\n",
    "gender, occupation, age, x, pre_y, post_y, effect_y = generate_data(150)"
   ]
  },
  {
   "cell_type": "markdown",
   "id": "8fb02247",
   "metadata": {},
   "source": [
    "### 2. Observe generated data."
   ]
  },
  {
   "cell_type": "code",
   "execution_count": 3,
   "id": "94631967",
   "metadata": {},
   "outputs": [
    {
     "data": {
      "text/plain": [
       "array([0, 0, 1, 1, 0, 0, 0, 1, 0, 1, 0, 1, 0, 1, 0, 0, 1, 0, 0, 1, 1, 0,\n",
       "       0, 0, 1, 0, 1, 1, 1, 0, 0, 0, 0, 0, 0, 1, 0, 1, 0, 0, 0, 0, 1, 1,\n",
       "       0, 0, 1, 1, 1, 1, 1, 0, 1, 0, 1, 1, 0, 0, 0, 1, 1, 0, 0, 0, 0, 1,\n",
       "       1, 0, 1, 0, 1, 1, 1, 1, 0, 0, 0, 0, 1, 1, 0, 0, 0, 1, 0, 0, 1, 1,\n",
       "       0, 1, 1, 0, 0, 0, 0, 1, 1, 0, 1, 1, 1, 0, 0, 1, 0, 1, 0, 1, 1, 0,\n",
       "       1, 1, 1, 0, 0, 0, 1, 1, 0, 0, 0, 0, 0, 0, 1, 1, 0, 1, 0, 1, 1, 0,\n",
       "       0, 0, 1, 1, 1, 0, 1, 1, 0, 1, 0, 1, 1, 1, 0, 0, 1, 0])"
      ]
     },
     "execution_count": 3,
     "metadata": {},
     "output_type": "execute_result"
    }
   ],
   "source": [
    "gender "
   ]
  },
  {
   "cell_type": "code",
   "execution_count": 4,
   "id": "38ca4ecd",
   "metadata": {},
   "outputs": [
    {
     "data": {
      "text/plain": [
       "array([1, 1, 1, 1, 1, 0, 0, 1, 1, 0, 0, 0, 1, 0, 0, 0, 0, 1, 0, 0, 1, 1,\n",
       "       1, 1, 0, 0, 0, 0, 0, 1, 0, 0, 0, 0, 0, 0, 1, 0, 0, 1, 0, 1, 0, 0,\n",
       "       0, 1, 0, 0, 1, 0, 0, 0, 1, 0, 0, 0, 0, 0, 0, 1, 1, 0, 0, 1, 1, 0,\n",
       "       1, 0, 0, 1, 0, 0, 0, 0, 1, 0, 0, 0, 0, 0, 1, 0, 1, 0, 0, 0, 0, 0,\n",
       "       1, 0, 0, 0, 0, 1, 0, 1, 0, 0, 1, 0, 1, 0, 0, 0, 0, 0, 0, 0, 0, 0,\n",
       "       1, 0, 1, 0, 0, 0, 0, 0, 0, 0, 0, 0, 1, 0, 0, 1, 1, 1, 1, 0, 0, 1,\n",
       "       1, 0, 0, 0, 0, 1, 0, 0, 0, 0, 0, 0, 1, 0, 0, 0, 1, 0])"
      ]
     },
     "execution_count": 4,
     "metadata": {},
     "output_type": "execute_result"
    }
   ],
   "source": [
    "occupation"
   ]
  },
  {
   "cell_type": "code",
   "execution_count": 5,
   "id": "50003274",
   "metadata": {},
   "outputs": [
    {
     "data": {
      "text/plain": [
       "array([29, 30, 35, 27, 28, 18, 19, 32, 24, 18, 18, 19, 27, 19, 19, 22, 21,\n",
       "       30, 18, 19, 26, 24, 26, 27, 18, 18, 20, 18, 19, 33, 19, 19, 19, 20,\n",
       "       21, 21, 25, 19, 20, 27, 21, 26, 20, 22, 19, 30, 20, 18, 29, 19, 20,\n",
       "       17, 28, 20, 19, 20, 19, 20, 21, 24, 26, 21, 21, 24, 26, 21, 27, 19,\n",
       "       19, 27, 19, 20, 20, 19, 29, 19, 17, 20, 20, 18, 29, 20, 20, 18, 18,\n",
       "       19, 21, 18, 30, 18, 19, 19, 20, 30, 19, 26, 20, 18, 24, 19, 28, 17,\n",
       "       19, 18, 20, 20, 18, 20, 19, 20, 30, 20, 25, 20, 20, 19, 19, 21, 20,\n",
       "       20, 21, 20, 25, 21, 19, 26, 17, 21, 23, 20, 19, 27, 26, 21, 20, 20,\n",
       "       19, 26, 19, 20, 20, 18, 18, 20, 27, 20, 20, 19, 23, 20])"
      ]
     },
     "execution_count": 5,
     "metadata": {},
     "output_type": "execute_result"
    }
   ],
   "source": [
    "age"
   ]
  },
  {
   "cell_type": "code",
   "execution_count": 6,
   "id": "de8831d4",
   "metadata": {},
   "outputs": [
    {
     "data": {
      "text/plain": [
       "array([[ 0,  1, 29],\n",
       "       [ 0,  1, 30],\n",
       "       [ 1,  1, 35],\n",
       "       [ 1,  1, 27],\n",
       "       [ 0,  1, 28],\n",
       "       [ 0,  0, 18],\n",
       "       [ 0,  0, 19],\n",
       "       [ 1,  1, 32],\n",
       "       [ 0,  1, 24],\n",
       "       [ 1,  0, 18],\n",
       "       [ 0,  0, 18],\n",
       "       [ 1,  0, 19],\n",
       "       [ 0,  1, 27],\n",
       "       [ 1,  0, 19],\n",
       "       [ 0,  0, 19],\n",
       "       [ 0,  0, 22],\n",
       "       [ 1,  0, 21],\n",
       "       [ 0,  1, 30],\n",
       "       [ 0,  0, 18],\n",
       "       [ 1,  0, 19],\n",
       "       [ 1,  1, 26],\n",
       "       [ 0,  1, 24],\n",
       "       [ 0,  1, 26],\n",
       "       [ 0,  1, 27],\n",
       "       [ 1,  0, 18],\n",
       "       [ 0,  0, 18],\n",
       "       [ 1,  0, 20],\n",
       "       [ 1,  0, 18],\n",
       "       [ 1,  0, 19],\n",
       "       [ 0,  1, 33],\n",
       "       [ 0,  0, 19],\n",
       "       [ 0,  0, 19],\n",
       "       [ 0,  0, 19],\n",
       "       [ 0,  0, 20],\n",
       "       [ 0,  0, 21],\n",
       "       [ 1,  0, 21],\n",
       "       [ 0,  1, 25],\n",
       "       [ 1,  0, 19],\n",
       "       [ 0,  0, 20],\n",
       "       [ 0,  1, 27],\n",
       "       [ 0,  0, 21],\n",
       "       [ 0,  1, 26],\n",
       "       [ 1,  0, 20],\n",
       "       [ 1,  0, 22],\n",
       "       [ 0,  0, 19],\n",
       "       [ 0,  1, 30],\n",
       "       [ 1,  0, 20],\n",
       "       [ 1,  0, 18],\n",
       "       [ 1,  1, 29],\n",
       "       [ 1,  0, 19],\n",
       "       [ 1,  0, 20],\n",
       "       [ 0,  0, 17],\n",
       "       [ 1,  1, 28],\n",
       "       [ 0,  0, 20],\n",
       "       [ 1,  0, 19],\n",
       "       [ 1,  0, 20],\n",
       "       [ 0,  0, 19],\n",
       "       [ 0,  0, 20],\n",
       "       [ 0,  0, 21],\n",
       "       [ 1,  1, 24],\n",
       "       [ 1,  1, 26],\n",
       "       [ 0,  0, 21],\n",
       "       [ 0,  0, 21],\n",
       "       [ 0,  1, 24],\n",
       "       [ 0,  1, 26],\n",
       "       [ 1,  0, 21],\n",
       "       [ 1,  1, 27],\n",
       "       [ 0,  0, 19],\n",
       "       [ 1,  0, 19],\n",
       "       [ 0,  1, 27],\n",
       "       [ 1,  0, 19],\n",
       "       [ 1,  0, 20],\n",
       "       [ 1,  0, 20],\n",
       "       [ 1,  0, 19],\n",
       "       [ 0,  1, 29],\n",
       "       [ 0,  0, 19],\n",
       "       [ 0,  0, 17],\n",
       "       [ 0,  0, 20],\n",
       "       [ 1,  0, 20],\n",
       "       [ 1,  0, 18],\n",
       "       [ 0,  1, 29],\n",
       "       [ 0,  0, 20],\n",
       "       [ 0,  1, 20],\n",
       "       [ 1,  0, 18],\n",
       "       [ 0,  0, 18],\n",
       "       [ 0,  0, 19],\n",
       "       [ 1,  0, 21],\n",
       "       [ 1,  0, 18],\n",
       "       [ 0,  1, 30],\n",
       "       [ 1,  0, 18],\n",
       "       [ 1,  0, 19],\n",
       "       [ 0,  0, 19],\n",
       "       [ 0,  0, 20],\n",
       "       [ 0,  1, 30],\n",
       "       [ 0,  0, 19],\n",
       "       [ 1,  1, 26],\n",
       "       [ 1,  0, 20],\n",
       "       [ 0,  0, 18],\n",
       "       [ 1,  1, 24],\n",
       "       [ 1,  0, 19],\n",
       "       [ 1,  1, 28],\n",
       "       [ 0,  0, 17],\n",
       "       [ 0,  0, 19],\n",
       "       [ 1,  0, 18],\n",
       "       [ 0,  0, 20],\n",
       "       [ 1,  0, 20],\n",
       "       [ 0,  0, 18],\n",
       "       [ 1,  0, 20],\n",
       "       [ 1,  0, 19],\n",
       "       [ 0,  0, 20],\n",
       "       [ 1,  1, 30],\n",
       "       [ 1,  0, 20],\n",
       "       [ 1,  1, 25],\n",
       "       [ 0,  0, 20],\n",
       "       [ 0,  0, 20],\n",
       "       [ 0,  0, 19],\n",
       "       [ 1,  0, 19],\n",
       "       [ 1,  0, 21],\n",
       "       [ 0,  0, 20],\n",
       "       [ 0,  0, 20],\n",
       "       [ 0,  0, 21],\n",
       "       [ 0,  0, 20],\n",
       "       [ 0,  1, 25],\n",
       "       [ 0,  0, 21],\n",
       "       [ 1,  0, 19],\n",
       "       [ 1,  1, 26],\n",
       "       [ 0,  1, 17],\n",
       "       [ 1,  1, 21],\n",
       "       [ 0,  1, 23],\n",
       "       [ 1,  0, 20],\n",
       "       [ 1,  0, 19],\n",
       "       [ 0,  1, 27],\n",
       "       [ 0,  1, 26],\n",
       "       [ 0,  0, 21],\n",
       "       [ 1,  0, 20],\n",
       "       [ 1,  0, 20],\n",
       "       [ 1,  0, 19],\n",
       "       [ 0,  1, 26],\n",
       "       [ 1,  0, 19],\n",
       "       [ 1,  0, 20],\n",
       "       [ 0,  0, 20],\n",
       "       [ 1,  0, 18],\n",
       "       [ 0,  0, 18],\n",
       "       [ 1,  0, 20],\n",
       "       [ 1,  1, 27],\n",
       "       [ 1,  0, 20],\n",
       "       [ 0,  0, 20],\n",
       "       [ 0,  0, 19],\n",
       "       [ 1,  1, 23],\n",
       "       [ 0,  0, 20]])"
      ]
     },
     "execution_count": 6,
     "metadata": {},
     "output_type": "execute_result"
    }
   ],
   "source": [
    "x"
   ]
  },
  {
   "cell_type": "code",
   "execution_count": 7,
   "id": "50f42a7e",
   "metadata": {},
   "outputs": [
    {
     "data": {
      "text/plain": [
       "array([2, 4, 4, 4, 3, 2, 2, 3, 3, 2, 1, 1, 3, 3, 2, 3, 2, 2, 3, 2, 4, 3,\n",
       "       3, 3, 2, 2, 2, 1, 2, 4, 1, 3, 1, 3, 3, 2, 4, 1, 3, 3, 3, 3, 1, 2,\n",
       "       2, 3, 2, 1, 4, 2, 3, 3, 3, 3, 2, 2, 1, 2, 2, 2, 2, 2, 2, 3, 2, 2,\n",
       "       4, 3, 3, 3, 2, 2, 3, 3, 4, 2, 3, 3, 2, 2, 3, 3, 3, 2, 1, 2, 3, 3,\n",
       "       3, 3, 1, 1, 2, 4, 3, 3, 3, 2, 2, 3, 2, 1, 3, 3, 1, 3, 2, 3, 2, 2,\n",
       "       4, 2, 3, 3, 1, 2, 1, 3, 2, 3, 2, 3, 3, 2, 3, 2, 2, 2, 2, 2, 2, 3,\n",
       "       2, 2, 2, 2, 2, 3, 2, 1, 2, 2, 1, 3, 3, 2, 2, 3, 3, 1])"
      ]
     },
     "execution_count": 7,
     "metadata": {},
     "output_type": "execute_result"
    }
   ],
   "source": [
    "pre_y"
   ]
  },
  {
   "cell_type": "code",
   "execution_count": 8,
   "id": "72b6e22e",
   "metadata": {},
   "outputs": [
    {
     "data": {
      "text/plain": [
       "array([3, 5, 6, 6, 4, 3, 3, 4, 4, 2, 2, 2, 4, 4, 3, 4, 3, 3, 4, 3, 5, 5,\n",
       "       5, 4, 3, 3, 3, 2, 2, 6, 1, 4, 2, 4, 4, 2, 4, 2, 4, 4, 5, 4, 2, 3,\n",
       "       3, 5, 3, 2, 5, 4, 4, 5, 4, 4, 4, 3, 3, 2, 3, 4, 3, 3, 3, 4, 4, 4,\n",
       "       6, 4, 4, 4, 3, 4, 4, 3, 5, 2, 4, 4, 3, 4, 4, 3, 3, 3, 2, 3, 3, 4,\n",
       "       3, 4, 2, 1, 3, 6, 4, 4, 4, 3, 4, 4, 3, 2, 4, 3, 2, 3, 3, 4, 3, 3,\n",
       "       6, 3, 3, 4, 1, 3, 2, 5, 3, 3, 4, 5, 4, 3, 4, 3, 3, 3, 3, 3, 3, 5,\n",
       "       3, 3, 3, 3, 3, 4, 4, 2, 2, 3, 2, 3, 4, 3, 4, 4, 5, 2])"
      ]
     },
     "execution_count": 8,
     "metadata": {},
     "output_type": "execute_result"
    }
   ],
   "source": [
    "post_y"
   ]
  },
  {
   "cell_type": "code",
   "execution_count": 9,
   "id": "3a6227ab",
   "metadata": {},
   "outputs": [
    {
     "data": {
      "text/plain": [
       "array([1, 1, 2, 2, 1, 1, 1, 1, 1, 0, 1, 1, 1, 1, 1, 1, 1, 1, 1, 1, 1, 2,\n",
       "       2, 1, 1, 1, 1, 1, 0, 2, 0, 1, 1, 1, 1, 0, 0, 1, 1, 1, 2, 1, 1, 1,\n",
       "       1, 2, 1, 1, 1, 2, 1, 2, 1, 1, 2, 1, 2, 0, 1, 2, 1, 1, 1, 1, 2, 2,\n",
       "       2, 1, 1, 1, 1, 2, 1, 0, 1, 0, 1, 1, 1, 2, 1, 0, 0, 1, 1, 1, 0, 1,\n",
       "       0, 1, 1, 0, 1, 2, 1, 1, 1, 1, 2, 1, 1, 1, 1, 0, 1, 0, 1, 1, 1, 1,\n",
       "       2, 1, 0, 1, 0, 1, 1, 2, 1, 0, 2, 2, 1, 1, 1, 1, 1, 1, 1, 1, 1, 2,\n",
       "       1, 1, 1, 1, 1, 1, 2, 1, 0, 1, 1, 0, 1, 1, 2, 1, 2, 1])"
      ]
     },
     "execution_count": 9,
     "metadata": {},
     "output_type": "execute_result"
    }
   ],
   "source": [
    "effect_y"
   ]
  },
  {
   "cell_type": "code",
   "execution_count": 10,
   "id": "7ce79830",
   "metadata": {},
   "outputs": [
    {
     "data": {
      "text/html": [
       "<div>\n",
       "<style scoped>\n",
       "    .dataframe tbody tr th:only-of-type {\n",
       "        vertical-align: middle;\n",
       "    }\n",
       "\n",
       "    .dataframe tbody tr th {\n",
       "        vertical-align: top;\n",
       "    }\n",
       "\n",
       "    .dataframe thead th {\n",
       "        text-align: right;\n",
       "    }\n",
       "</style>\n",
       "<table border=\"1\" class=\"dataframe\">\n",
       "  <thead>\n",
       "    <tr style=\"text-align: right;\">\n",
       "      <th></th>\n",
       "      <th>gender</th>\n",
       "      <th>occupation</th>\n",
       "      <th>age</th>\n",
       "      <th>pre_y</th>\n",
       "      <th>post_y</th>\n",
       "      <th>effect_y</th>\n",
       "    </tr>\n",
       "  </thead>\n",
       "  <tbody>\n",
       "    <tr>\n",
       "      <th>0</th>\n",
       "      <td>0</td>\n",
       "      <td>1</td>\n",
       "      <td>29</td>\n",
       "      <td>2</td>\n",
       "      <td>3</td>\n",
       "      <td>1</td>\n",
       "    </tr>\n",
       "    <tr>\n",
       "      <th>1</th>\n",
       "      <td>0</td>\n",
       "      <td>1</td>\n",
       "      <td>30</td>\n",
       "      <td>4</td>\n",
       "      <td>5</td>\n",
       "      <td>1</td>\n",
       "    </tr>\n",
       "    <tr>\n",
       "      <th>2</th>\n",
       "      <td>1</td>\n",
       "      <td>1</td>\n",
       "      <td>35</td>\n",
       "      <td>4</td>\n",
       "      <td>6</td>\n",
       "      <td>2</td>\n",
       "    </tr>\n",
       "    <tr>\n",
       "      <th>3</th>\n",
       "      <td>1</td>\n",
       "      <td>1</td>\n",
       "      <td>27</td>\n",
       "      <td>4</td>\n",
       "      <td>6</td>\n",
       "      <td>2</td>\n",
       "    </tr>\n",
       "    <tr>\n",
       "      <th>4</th>\n",
       "      <td>0</td>\n",
       "      <td>1</td>\n",
       "      <td>28</td>\n",
       "      <td>3</td>\n",
       "      <td>4</td>\n",
       "      <td>1</td>\n",
       "    </tr>\n",
       "  </tbody>\n",
       "</table>\n",
       "</div>"
      ],
      "text/plain": [
       "   gender  occupation  age  pre_y  post_y  effect_y\n",
       "0       0           1   29      2       3         1\n",
       "1       0           1   30      4       5         1\n",
       "2       1           1   35      4       6         2\n",
       "3       1           1   27      4       6         2\n",
       "4       0           1   28      3       4         1"
      ]
     },
     "execution_count": 10,
     "metadata": {},
     "output_type": "execute_result"
    }
   ],
   "source": [
    "generated_data = pandas.DataFrame(\n",
    "    {\n",
    "        \"gender\": gender, # alternatively, can be done as ['male' if i==0 else 'female' for i in gender],\n",
    "        \"occupation\": occupation, # alternatively: ['student' if i==0 else 'worker' for i in occupation],\n",
    "        \"age\": age,\n",
    "        \"pre_y\": pre_y,\n",
    "        \"post_y\": post_y,\n",
    "        \"effect_y\": effect_y\n",
    "    }\n",
    ")\n",
    "\n",
    "generated_data.head()"
   ]
  },
  {
   "cell_type": "markdown",
   "id": "9a057901",
   "metadata": {},
   "source": [
    "## II. Visualize and examine the data."
   ]
  },
  {
   "cell_type": "code",
   "execution_count": 11,
   "id": "53518c64",
   "metadata": {},
   "outputs": [
    {
     "data": {
      "image/png": "[encoded data removed]",
      "text/plain": [
       "<Figure size 432x288 with 1 Axes>"
      ]
     },
     "metadata": {
      "needs_background": "light"
     },
     "output_type": "display_data"
    },
    {
     "data": {
      "image/png": "[encoded data removed]",
      "text/plain": [
       "<Figure size 432x288 with 1 Axes>"
      ]
     },
     "metadata": {
      "needs_background": "light"
     },
     "output_type": "display_data"
    }
   ],
   "source": [
    "pyplot.title('Initial skills distribution by occupation:')\n",
    "pyplot.hist(generated_data[occupation == 0].pre_y, bins = 3, color = 'green', label = 'Student')\n",
    "pyplot.hist(generated_data[occupation == 1].pre_y, bins = 3, color = 'purple', label = 'Worker')\n",
    "pyplot.legend()\n",
    "pyplot.xlabel('Initial skills')\n",
    "pyplot.show()\n",
    "\n",
    "pyplot.title('Initial skills distribution by occupation:')\n",
    "seaborn.kdeplot(generated_data[occupation == 0].pre_y, color = 'green', label = 'Student')\n",
    "pyplot.axvline(x = numpy.mean(generated_data[occupation == 0].pre_y), linestyle = 'dashed', color = 'green')\n",
    "seaborn.kdeplot(generated_data[occupation == 1].pre_y, color = 'purple', label = 'Worker')\n",
    "pyplot.axvline(x = numpy.mean(generated_data[occupation == 1].pre_y), linestyle = 'dashed', color = 'purple')\n",
    "pyplot.legend()\n",
    "pyplot.show()"
   ]
  },
  {
   "cell_type": "code",
   "execution_count": 12,
   "id": "be4cbf1a",
   "metadata": {},
   "outputs": [
    {
     "data": {
      "image/png": "[encoded data removed]",
      "text/plain": [
       "<Figure size 432x288 with 1 Axes>"
      ]
     },
     "metadata": {
      "needs_background": "light"
     },
     "output_type": "display_data"
    },
    {
     "data": {
      "image/png": "[encoded data removed]",
      "text/plain": [
       "<Figure size 432x288 with 1 Axes>"
      ]
     },
     "metadata": {
      "needs_background": "light"
     },
     "output_type": "display_data"
    }
   ],
   "source": [
    "pyplot.title('Resulting skills distribution by occupation:')\n",
    "pyplot.hist(generated_data[occupation == 0].post_y, bins = 3, color = 'green', label = 'Student')\n",
    "pyplot.hist(generated_data[occupation == 1].post_y, bins = 3, color = 'purple', label = 'Worker')\n",
    "pyplot.legend()\n",
    "pyplot.xlabel('Resulting skills')\n",
    "pyplot.show()\n",
    "\n",
    "pyplot.title('Resulting skills distribution by occupation:')\n",
    "seaborn.kdeplot(generated_data[occupation == 0].post_y, color = 'green', label = 'Student')\n",
    "pyplot.axvline(x = numpy.mean(generated_data[occupation == 0].post_y), linestyle = 'dashed', color = 'green')\n",
    "seaborn.kdeplot(generated_data[occupation == 1].post_y, color = 'purple', label = 'Worker')\n",
    "pyplot.axvline(x = numpy.mean(generated_data[occupation == 1].post_y), linestyle = 'dashed', color = 'purple')\n",
    "pyplot.legend()\n",
    "pyplot.show()"
   ]
  },
  {
   "cell_type": "code",
   "execution_count": 13,
   "id": "f9d3e1a9",
   "metadata": {},
   "outputs": [
    {
     "data": {
      "image/png": "[encoded data removed]",
      "text/plain": [
       "<Figure size 432x288 with 1 Axes>"
      ]
     },
     "metadata": {
      "needs_background": "light"
     },
     "output_type": "display_data"
    },
    {
     "data": {
      "image/png": "[encoded data removed]",
      "text/plain": [
       "<Figure size 432x288 with 1 Axes>"
      ]
     },
     "metadata": {
      "needs_background": "light"
     },
     "output_type": "display_data"
    }
   ],
   "source": [
    "pyplot.title('Effect of sessions distribution by occupation:')\n",
    "pyplot.hist(generated_data[occupation == 0].effect_y, bins = 3, color = 'green', label = 'Student')\n",
    "pyplot.hist(generated_data[occupation == 1].effect_y, bins = 3, color = 'purple', label = 'Worker')\n",
    "pyplot.legend()\n",
    "pyplot.xlabel('Effect of sessions')\n",
    "pyplot.show()\n",
    "\n",
    "pyplot.title('Effect of sessions distribution by occupation:')\n",
    "seaborn.kdeplot(generated_data[occupation == 0].effect_y, color = 'green', label = 'Student')\n",
    "pyplot.axvline(x = numpy.mean(generated_data[occupation == 0].effect_y), linestyle = 'dashed', color = 'green')\n",
    "seaborn.kdeplot(generated_data[occupation == 1].effect_y, color = 'purple', label = 'Worker')\n",
    "pyplot.axvline(x = numpy.mean(generated_data[occupation == 1].effect_y), linestyle = 'dashed', color = 'purple')\n",
    "pyplot.legend()\n",
    "pyplot.show()"
   ]
  },
  {
   "cell_type": "markdown",
   "id": "121a55a5",
   "metadata": {},
   "source": [
    "## III. Data analysis."
   ]
  },
  {
   "cell_type": "markdown",
   "id": "4f4e1b18",
   "metadata": {},
   "source": [
    "### Classification of effect: support vector machines.\n",
    "#### Predicting 0, 1 or 2 increase in confidence using demographics."
   ]
  },
  {
   "cell_type": "markdown",
   "id": "6c81b4cc",
   "metadata": {},
   "source": [
    "There are many methods of classification - however, not each one of them are:\n",
    "1. Easy to interpret for the analyst and to explain to the general audience;\n",
    "2. Allow to handle multiple independent variables, such as demographics measures, and stay efficient with them;\n",
    "3. Versatile in allowing to transform data for better interpretability.\n",
    "\n",
    "Thus, the method I've chosen is Support-Vector Machines - supervised (meaning requires an analyst for to provide the labels of the dependent variable) learning method that is used for a variety of tasks, including classification, regression and detection of outliers.\n",
    "\n",
    "Support-Vector Machines are used when dealing with the data that is hard to separate with a line in a 2D space, such as 2D x-y graph. First, they map the data into multidimensional space - for example, imagine age being an x variable, occupation being a y variable, and effect of sessions being a z variable. Then, they use some kind of kernel - which is a specific mathematical function that transforms the data, maps it differently using independent variables as input and produces the output of data being transformed. The idea of kernels is that they might help transform the data in a way that will allow for easier separation - and they also help prevent overfitting of the model, meaning that the model will take into account historical data, but will not try to fit to it too closely. The resulting model will be sensitive to the past, produce a more general and, most likely, fairly accurate trend, recognizing that not all of the seen data points are located right on the trend line - some also have had randomness contributed to them.\n",
    "\n",
    "Once the data is transformed, Support-Vector Machines separate it with one line if there are only two classes of data and multiple lines if there are more than two classes. If there is one independent variable, separation happens in 2D, if there are two - in 3D, if more - in (number of independent variables + 1) dimensions.\n",
    "\n",
    "The separation is done by trying to find a border that will allow for the separation with minimum of data points ending up on the territory of the wrong class and is done by iteratively trying different line options to increase a distance between the \"border cases\" of different classes. The process can be imagined as trying to fit the border between two countries by picking cities from one side that are closest to cities on the other side, repeating the process with the other side, and then trying to find a border that would allow to separate them and maximize their equal distance to the border. The mathematical formula behind it is also easy to interpret."
   ]
  },
  {
   "cell_type": "code",
   "execution_count": 14,
   "id": "24864a86",
   "metadata": {},
   "outputs": [
    {
     "name": "stdout",
     "output_type": "stream",
     "text": [
      "1.For the SVC with the linear kernel:\n",
      "a) Error on the training data is 0.2666666666666667\n",
      "b) Error on the test data is 0.36\n",
      "2. For the SVC with the poly kernel of degree = 2:\n",
      "a) Error on the training data is 0.2666666666666667\n",
      "b) Error on the test data is 0.36\n",
      "For the SVC with the rbf kernel:\n",
      "1. Error on the training data is 0.2666666666666667\n",
      "2. Error on the test data is 0.36\n"
     ]
    }
   ],
   "source": [
    "# 1. Separate the data into training and test sets: test size can be adjusted, but I picked 50% as a baseline.\n",
    "# Shuffling allows for better elimination of bias during model fitting, especially with real data.\n",
    "\n",
    "x_train, x_test, y_train, y_test = train_test_split(x, effect_y, test_size = 0.5, shuffle = True)\n",
    "\n",
    "# 2. Fit the models to the training data - SVC is a classis Support-Vector Machines method.\n",
    "# Here I try multiple commonly used, due to their efficiency, kernels: linear, polynomial and Radial Basis Function.\n",
    "\n",
    "linear = svm.SVC(kernel = 'linear').fit(x_train, y_train)\n",
    "poly = svm.SVC(kernel = 'poly', degree = 2).fit(x_train, y_train)\n",
    "rbf = svm.SVC(kernel = 'rbf').fit(x_train, y_train)\n",
    "\n",
    "# 3. Compare the chosen models by comparing error of the performance on the training and test sets of data.\n",
    "# \"Score\" parameter displays the accuracy of the classification of each model.\n",
    "print('1.For the SVC with the linear kernel:')\n",
    "print('a) Error on the training data is', 1 - linear.score(x_train, y_train))\n",
    "print('b) Error on the test data is', 1 - linear.score(x_test, y_test))\n",
    "\n",
    "print('2. For the SVC with the poly kernel of degree = 2:')\n",
    "print('a) Error on the training data is', 1 - poly.score(x_train, y_train))\n",
    "print('b) Error on the test data is', 1 - poly.score(x_test, y_test))\n",
    "\n",
    "print('For the SVC with the rbf kernel:')\n",
    "print('1. Error on the training data is', 1 - rbf.score(x_train, y_train))\n",
    "print('2. Error on the test data is', 1 - rbf.score(x_test, y_test))"
   ]
  },
  {
   "cell_type": "markdown",
   "id": "fc7929d2",
   "metadata": {},
   "source": [
    "Error is provided as the proportion of data that was classified wrong when the final data separation line, the line option with the best performance, was fitted.\n",
    "\n",
    "The expectation is that the error on the training data should not be too small in comparison to the error on the test data, as it would be an indication of the overfitting. However, in our case, the errors for training and test sets are very similar, meaning little overfitting occured.\n",
    "\n",
    "Additionally, the error will always have some correlation to the amount of contribution of randomness or unaccounted for factors involved: since real randomness often contains no or little trend, and the mix of unaccounted for factors can have a trend that is too complex to predict due to many variables involved in a complex manner, it is hard to predict them in any systematic way. In our case of fake data, the contribution of randomness is high for both pre-sessions and post-sessions evaluation, so getting such a small error on both sets means the models were fitted well.\n",
    "\n",
    "The reason the performance of the models with different kernels is similar is because of the simplicity of the data and absence of any specific patterns that would make one kernel more suitable for its transformation than the other ones (e.g., RBF kernel is most suitable for the chronological data).\n",
    "\n",
    "Thus, our models can currently predict the effect of the sessions based on the demographics with 60+% accuracy; the specific value can differ if you run the full code multiple times."
   ]
  }
 ],
 "metadata": {
  "kernelspec": {
   "display_name": "Python 3",
   "language": "python",
   "name": "python3"
  },
  "language_info": {
   "codemirror_mode": {
    "name": "ipython",
    "version": 3
   },
   "file_extension": ".py",
   "mimetype": "text/x-python",
   "name": "python",
   "nbconvert_exporter": "python",
   "pygments_lexer": "ipython3",
   "version": "3.8.8"
  }
 },
 "nbformat": 4,
 "nbformat_minor": 5
}
